{
 "cells": [
  {
   "cell_type": "markdown",
   "metadata": {},
   "source": [
    "## Importaciones"
   ]
  },
  {
   "cell_type": "code",
   "execution_count": 3,
   "metadata": {},
   "outputs": [],
   "source": [
    "\"\"\"Módulo para crear un modelo predictivo de precios de Airbnb en la Comunidad de Madrid.\"\"\"\n",
    "\n",
    "import pandas as pd"
   ]
  },
  {
   "cell_type": "markdown",
   "metadata": {},
   "source": [
    "## Descargar los datos"
   ]
  },
  {
   "cell_type": "code",
   "execution_count": 11,
   "metadata": {},
   "outputs": [],
   "source": [
    "data_location = \"https://data.insideairbnb.com/spain/comunidad-de-madrid/madrid/2024-03-22/data/listings.csv.gz\""
   ]
  },
  {
   "cell_type": "code",
   "execution_count": 12,
   "metadata": {},
   "outputs": [
    {
     "name": "stdout",
     "output_type": "stream",
     "text": [
      "--2024-06-01 19:46:38--  https://data.insideairbnb.com/spain/comunidad-de-madrid/madrid/2024-03-22/data/listings.csv.gz\n",
      "Resolving data.insideairbnb.com (data.insideairbnb.com)... 18.154.48.59, 18.154.48.87, 18.154.48.41, ...\n",
      "Connecting to data.insideairbnb.com (data.insideairbnb.com)|18.154.48.59|:443... connected.\n",
      "HTTP request sent, awaiting response... 200 OK\n",
      "Length: 13297683 (13M) [application/x-gzip]\n",
      "Saving to: ‘listings.csv.gz’\n",
      "\n",
      "listings.csv.gz     100%[===================>]  12.68M  17.1MB/s    in 0.7s    \n",
      "\n",
      "2024-06-01 19:46:39 (17.1 MB/s) - ‘listings.csv.gz’ saved [13297683/13297683]\n",
      "\n"
     ]
    }
   ],
   "source": [
    "!wget https://data.insideairbnb.com/spain/comunidad-de-madrid/madrid/2024-03-22/data/listings.csv.gz"
   ]
  },
  {
   "cell_type": "code",
   "execution_count": 67,
   "metadata": {},
   "outputs": [],
   "source": [
    "# Reasoning behind which columns are removed, and which require text processing\n",
    "columns = [\n",
    "    'id',                     # Remove - Identifier\n",
    "    'listing_url',            # Remove - URL with ID at end\n",
    "    'scrape_id',              # Remove - details of scrape\n",
    "    'last_scraped',           # Remove - detail of scrape\n",
    "    'source',                 # Remove - detail of scrape\n",
    "    'name',                   # Do text processing\n",
    "    'description',            # Do text processing\n",
    "    'neighborhood_overview',  # Do text processing\n",
    "    'picture_url',            # Remove - URl\n",
    "    'host_id',                # Could learn relation between host and price\n",
    "    'host_url',               # Remove - redundant with host_id\n",
    "    'host_name',              # Do text processing\n",
    "    'host_since',             # Convert to number of months or years \n",
    "    'host_location',          # Do text processing\n",
    "    'host_about',             # Do text processing\n",
    "    'host_response_time', 'host_response_rate',\n",
    "    'host_acceptance_rate', 'host_is_superhost',\n",
    "    'host_thumbnail_url',     # Remove\n",
    "    'host_picture_url',       # Remove\n",
    "    'host_neighbourhood',     # Do text processing\n",
    "    'host_listings_count', 'host_total_listings_count',\n",
    "    'host_verifications',     #\n",
    "    'host_has_profile_pic', 'host_identity_verified',\n",
    "    'neighbourhood',          #  Remove - redundant\n",
    "    'neighbourhood_cleansed', #  Do text processing\n",
    "    'neighbourhood_group_cleansed',\n",
    "    'latitude', 'longitude',  # Consider removing, redundant with neighbourhood_cleansed\n",
    "    'property_type',          #  Do text processing\n",
    "    'room_type', 'accommodates', 'bathrooms',\n",
    "    'bathrooms_text',         # Remove - largely redundant\n",
    "    'bedrooms', 'beds', 'amenities',\n",
    "    'price',                  # Dependent variable\n",
    "    'minimum_nights', 'maximum_nights', 'minimum_minimum_nights',\n",
    "    'maximum_minimum_nights', 'minimum_maximum_nights',\n",
    "    'maximum_maximum_nights', 'minimum_nights_avg_ntm',\n",
    "    'maximum_nights_avg_ntm',\n",
    "    'calendar_updated',       # Remove - 0 not null\n",
    "    'has_availability',\n",
    "    'availability_30', 'availability_60', 'availability_90',\n",
    "    'availability_365',\n",
    "    'calendar_last_scraped',  # Remove - same across all rows\n",
    "    'number_of_reviews',\n",
    "    'number_of_reviews_ltm', 'number_of_reviews_l30d',\n",
    "    'first_review', 'last_review',  # Convert to days ago\n",
    "    'review_scores_rating', 'review_scores_accuracy',\n",
    "    'review_scores_cleanliness', 'review_scores_checkin',\n",
    "    'review_scores_communication', 'review_scores_location',\n",
    "    'review_scores_value',\n",
    "    'license',                # Remove \n",
    "    'instant_bookable',\n",
    "    'calculated_host_listings_count',\n",
    "    'calculated_host_listings_count_entire_homes',\n",
    "    'calculated_host_listings_count_private_rooms',\n",
    "    'calculated_host_listings_count_shared_rooms', 'reviews_per_month'   \n",
    "]\n",
    "\n",
    "data_types = {\n",
    "    'host_response_time': pd.StringDtype(),\n",
    "    'host_response_rate': pd.StringDtype(),\n",
    "    'host_acceptance_rate': pd.StringDtype(),\n",
    "    'host_is_superhost': pd.StringDtype(),\n",
    "    'host_has_profile_pic': pd.StringDtype(),\n",
    "    'host_identity_verified': pd.StringDtype(),\n",
    "    'room_type': pd.StringDtype(),\n",
    "    'has_availability': pd.StringDtype(),\n",
    "    'instant_bookable': pd.StringDtype(),\n",
    "    'name': pd.StringDtype(),\n",
    "    'description': pd.StringDtype(),\n",
    "    'neighborhood_overview': pd.StringDtype(),\n",
    "    'host_name': pd.StringDtype(),\n",
    "    'host_location': pd.StringDtype(),\n",
    "    'host_about': pd.StringDtype(),\n",
    "    'host_neighbourhood': pd.StringDtype(),\n",
    "    'neighbourhood_cleansed': pd.StringDtype(),\n",
    "    'neighbourhood_group_cleansed': pd.StringDtype(),\n",
    "    'property_type': pd.StringDtype(),\n",
    "}"
   ]
  },
  {
   "cell_type": "markdown",
   "metadata": {},
   "source": [
    "## Cargar los datos y crear subconjuntos"
   ]
  },
  {
   "cell_type": "code",
   "execution_count": 68,
   "metadata": {},
   "outputs": [
    {
     "data": {
      "text/plain": [
       "(20688, 75)"
      ]
     },
     "execution_count": 68,
     "metadata": {},
     "output_type": "execute_result"
    }
   ],
   "source": [
    "parse_dates = ['host_since','first_review','last_review']\n",
    "\n",
    "data = pd.read_csv('listings.csv.gz', parse_dates=parse_dates, dtype=data_types)\n",
    "\n",
    "# Select only data where there exists a price\n",
    "data = data[data['price'].notnull()]\n",
    "\n",
    "y = data['price']\n",
    "\n",
    "data.shape"
   ]
  },
  {
   "cell_type": "code",
   "execution_count": 69,
   "metadata": {},
   "outputs": [],
   "source": [
    "cols_of_interest = [\n",
    "    'host_id', 'host_since', 'host_response_time', 'host_response_rate',\n",
    "    'host_acceptance_rate', 'host_is_superhost', 'host_listings_count',\n",
    "    'host_total_listings_count', 'host_verifications', 'host_has_profile_pic',\n",
    "    'host_identity_verified', 'latitude', 'longitude', 'room_type', 'accommodates',\n",
    "    'bathrooms', 'bedrooms', 'beds', 'minimum_nights', 'maximum_nights',\n",
    "    'minimum_minimum_nights', 'maximum_minimum_nights', 'minimum_maximum_nights',\n",
    "    'maximum_maximum_nights', 'minimum_nights_avg_ntm', 'maximum_nights_avg_ntm',\n",
    "    'has_availability', 'availability_30', 'availability_60', 'availability_90',\n",
    "    'availability_365', 'number_of_reviews', 'number_of_reviews_ltm', 'number_of_reviews_l30d',\n",
    "    'first_review', 'last_review', 'review_scores_rating', 'review_scores_accuracy',\n",
    "    'review_scores_cleanliness', 'review_scores_checkin', 'review_scores_communication',\n",
    "    'review_scores_location', 'review_scores_value', 'instant_bookable',\n",
    "    'calculated_host_listings_count', 'calculated_host_listings_count_entire_homes',\n",
    "    'calculated_host_listings_count_private_rooms', 'calculated_host_listings_count_shared_rooms',\n",
    "    'reviews_per_month'\n",
    "                   ]"
   ]
  },
  {
   "cell_type": "code",
   "execution_count": 131,
   "metadata": {},
   "outputs": [],
   "source": [
    "# Columns to that require text processing\n",
    "cols_text = [\n",
    "    'name', 'description', 'neighborhood_overview', 'host_name', \n",
    "    'host_location', 'host_about', 'host_neighbourhood', 'neighbourhood_cleansed',\n",
    "    'neighbourhood_group_cleansed', 'property_type', 'amenities'\n",
    "            ]"
   ]
  },
  {
   "cell_type": "code",
   "execution_count": 137,
   "metadata": {},
   "outputs": [
    {
     "data": {
      "text/plain": [
       "((20688, 49), (20688, 11))"
      ]
     },
     "execution_count": 137,
     "metadata": {},
     "output_type": "execute_result"
    }
   ],
   "source": [
    "# Create data subsets\n",
    "data_numerical = data[cols_of_interest]\n",
    "data_text = data[cols_text]\n",
    "\n",
    "data_numerical.shape, data_text.shape"
   ]
  },
  {
   "cell_type": "markdown",
   "metadata": {},
   "source": [
    "## Ingeniería de Características"
   ]
  },
  {
   "cell_type": "code",
   "execution_count": 138,
   "metadata": {},
   "outputs": [
    {
     "name": "stdout",
     "output_type": "stream",
     "text": [
      "<class 'pandas.core.frame.DataFrame'>\n",
      "Index: 20688 entries, 0 to 26023\n",
      "Data columns (total 49 columns):\n",
      " #   Column                                        Non-Null Count  Dtype         \n",
      "---  ------                                        --------------  -----         \n",
      " 0   host_id                                       20688 non-null  int64         \n",
      " 1   host_since                                    20688 non-null  datetime64[ns]\n",
      " 2   host_response_time                            19208 non-null  string        \n",
      " 3   host_response_rate                            19208 non-null  string        \n",
      " 4   host_acceptance_rate                          19889 non-null  string        \n",
      " 5   host_is_superhost                             20578 non-null  string        \n",
      " 6   host_listings_count                           20688 non-null  float64       \n",
      " 7   host_total_listings_count                     20688 non-null  float64       \n",
      " 8   host_verifications                            20688 non-null  object        \n",
      " 9   host_has_profile_pic                          20688 non-null  string        \n",
      " 10  host_identity_verified                        20688 non-null  string        \n",
      " 11  latitude                                      20688 non-null  float64       \n",
      " 12  longitude                                     20688 non-null  float64       \n",
      " 13  room_type                                     20688 non-null  string        \n",
      " 14  accommodates                                  20688 non-null  int64         \n",
      " 15  bathrooms                                     20673 non-null  float64       \n",
      " 16  bedrooms                                      20670 non-null  float64       \n",
      " 17  beds                                          20631 non-null  float64       \n",
      " 18  minimum_nights                                20688 non-null  int64         \n",
      " 19  maximum_nights                                20688 non-null  int64         \n",
      " 20  minimum_minimum_nights                        20688 non-null  int64         \n",
      " 21  maximum_minimum_nights                        20688 non-null  int64         \n",
      " 22  minimum_maximum_nights                        20688 non-null  int64         \n",
      " 23  maximum_maximum_nights                        20688 non-null  int64         \n",
      " 24  minimum_nights_avg_ntm                        20688 non-null  float64       \n",
      " 25  maximum_nights_avg_ntm                        20688 non-null  float64       \n",
      " 26  has_availability                              20560 non-null  string        \n",
      " 27  availability_30                               20688 non-null  int64         \n",
      " 28  availability_60                               20688 non-null  int64         \n",
      " 29  availability_90                               20688 non-null  int64         \n",
      " 30  availability_365                              20688 non-null  int64         \n",
      " 31  number_of_reviews                             20688 non-null  int64         \n",
      " 32  number_of_reviews_ltm                         20688 non-null  int64         \n",
      " 33  number_of_reviews_l30d                        20688 non-null  int64         \n",
      " 34  first_review                                  17020 non-null  datetime64[ns]\n",
      " 35  last_review                                   17020 non-null  datetime64[ns]\n",
      " 36  review_scores_rating                          17021 non-null  float64       \n",
      " 37  review_scores_accuracy                        17003 non-null  float64       \n",
      " 38  review_scores_cleanliness                     17002 non-null  float64       \n",
      " 39  review_scores_checkin                         17002 non-null  float64       \n",
      " 40  review_scores_communication                   17003 non-null  float64       \n",
      " 41  review_scores_location                        17003 non-null  float64       \n",
      " 42  review_scores_value                           17003 non-null  float64       \n",
      " 43  instant_bookable                              20688 non-null  string        \n",
      " 44  calculated_host_listings_count                20688 non-null  int64         \n",
      " 45  calculated_host_listings_count_entire_homes   20688 non-null  int64         \n",
      " 46  calculated_host_listings_count_private_rooms  20688 non-null  int64         \n",
      " 47  calculated_host_listings_count_shared_rooms   20688 non-null  int64         \n",
      " 48  reviews_per_month                             17020 non-null  float64       \n",
      "dtypes: datetime64[ns](3), float64(17), int64(19), object(1), string(9)\n",
      "memory usage: 7.9+ MB\n"
     ]
    }
   ],
   "source": [
    "data_numerical.info()"
   ]
  },
  {
   "cell_type": "code",
   "execution_count": 139,
   "metadata": {},
   "outputs": [],
   "source": [
    "# 'host_verifications':  # list of strings lalala\n",
    "# 'amenities'            # list of strings lalala\n",
    "pd.options.mode.copy_on_write = True"
   ]
  },
  {
   "cell_type": "code",
   "execution_count": 140,
   "metadata": {},
   "outputs": [],
   "source": [
    "# Calculate years hosting\n",
    "data_numerical['host_since_year'] = data_numerical['host_since'].apply(lambda x: x.year)\n",
    "data_numerical['host_years'] = data_numerical['host_since_year'].apply(lambda x: 2024 - x)\n",
    "data_numerical = data_numerical.drop(['host_since', 'host_since_year'], axis=1)\n",
    "\n",
    "# Calculate years since first review\n",
    "data_numerical['first_review_year'] = data_numerical['first_review'].apply(lambda x: x.year)\n",
    "data_numerical['first_review_age'] = data_numerical['first_review_year'].apply(lambda x: 2024 - x)\n",
    "data_numerical = data_numerical.drop(['first_review', 'first_review_year'], axis=1)\n",
    "\n",
    "# Calculate years since last review\n",
    "data_numerical['last_review_year'] = data_numerical['last_review'].apply(lambda x: x.year)\n",
    "data_numerical['last_review_age'] = data_numerical['last_review_year'].apply(lambda x: 2024 - x)\n",
    "data_numerical = data_numerical.drop(['last_review', 'last_review_year'], axis=1)"
   ]
  },
  {
   "cell_type": "code",
   "execution_count": null,
   "metadata": {},
   "outputs": [],
   "source": [
    "# Change t f columns to 1 and 0"
   ]
  },
  {
   "cell_type": "code",
   "execution_count": null,
   "metadata": {},
   "outputs": [],
   "source": []
  },
  {
   "cell_type": "code",
   "execution_count": null,
   "metadata": {},
   "outputs": [],
   "source": []
  },
  {
   "cell_type": "code",
   "execution_count": null,
   "metadata": {},
   "outputs": [],
   "source": []
  },
  {
   "cell_type": "code",
   "execution_count": null,
   "metadata": {},
   "outputs": [],
   "source": []
  }
 ],
 "metadata": {
  "kernelspec": {
   "display_name": "Python 3 (ipykernel)",
   "language": "python",
   "name": "python3"
  },
  "language_info": {
   "codemirror_mode": {
    "name": "ipython",
    "version": 3
   },
   "file_extension": ".py",
   "mimetype": "text/x-python",
   "name": "python",
   "nbconvert_exporter": "python",
   "pygments_lexer": "ipython3",
   "version": "3.10.12"
  }
 },
 "nbformat": 4,
 "nbformat_minor": 4
}
