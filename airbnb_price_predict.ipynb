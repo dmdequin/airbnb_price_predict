{
 "cells": [
  {
   "cell_type": "markdown",
   "metadata": {},
   "source": [
    "# Importaciones"
   ]
  },
  {
   "cell_type": "code",
   "execution_count": 213,
   "metadata": {},
   "outputs": [],
   "source": [
    "\"\"\"Módulo para crear un modelo predictivo de precios de Airbnb en la Comunidad de Madrid.\"\"\"\n",
    "\n",
    "import numpy as np\n",
    "import pandas as pd\n",
    "import matplotlib.pyplot as plt\n",
    "\n",
    "import joblib\n",
    "\n",
    "from sklearn import metrics\n",
    "from sklearn.preprocessing import LabelEncoder, OneHotEncoder\n",
    "from sklearn.model_selection import train_test_split, cross_val_score, KFold, GridSearchCV\n",
    "from sklearn.ensemble import RandomForestRegressor, HistGradientBoostingRegressor"
   ]
  },
  {
   "cell_type": "markdown",
   "metadata": {},
   "source": [
    "# Descargar los datos"
   ]
  },
  {
   "cell_type": "code",
   "execution_count": 153,
   "metadata": {},
   "outputs": [],
   "source": [
    "#!wget https://data.insideairbnb.com/spain/comunidad-de-madrid/madrid/2024-03-22/data/listings.csv.gz"
   ]
  },
  {
   "cell_type": "code",
   "execution_count": 154,
   "metadata": {},
   "outputs": [],
   "source": [
    "# Reasoning behind which columns are removed, and which require text processing\n",
    "columns = [\n",
    "    'id',                     # Remove - Identifier\n",
    "    'listing_url',            # Remove - URL with ID at end\n",
    "    'scrape_id',              # Remove - details of scrape\n",
    "    'last_scraped',           # Remove - detail of scrape\n",
    "    'source',                 # Remove - detail of scrape\n",
    "    'name',                   # Do text processing\n",
    "    'description',            # Do text processing\n",
    "    'neighborhood_overview',  # Do text processing\n",
    "    'picture_url',            # Remove - URl\n",
    "    'host_id',                # Could learn relation between host and price\n",
    "    'host_url',               # Remove - redundant with host_id\n",
    "    'host_name',              # Do text processing\n",
    "    'host_since',             # Convert to number of months or years \n",
    "    'host_location',          # Do text processing\n",
    "    'host_about',             # Do text processing\n",
    "    'host_response_time', 'host_response_rate',\n",
    "    'host_acceptance_rate', 'host_is_superhost',\n",
    "    'host_thumbnail_url',     # Remove\n",
    "    'host_picture_url',       # Remove\n",
    "    'host_neighbourhood',     # Do text processing\n",
    "    'host_listings_count', 'host_total_listings_count',\n",
    "    'host_verifications',     #\n",
    "    'host_has_profile_pic', 'host_identity_verified',\n",
    "    'neighbourhood',          #  Remove - redundant\n",
    "    'neighbourhood_cleansed', #  Do text processing\n",
    "    'neighbourhood_group_cleansed',\n",
    "    'latitude', 'longitude',  # Consider removing, redundant with neighbourhood_cleansed\n",
    "    'property_type',          #  Do text processing\n",
    "    'room_type', 'accommodates', 'bathrooms',\n",
    "    'bathrooms_text',         # Remove - largely redundant\n",
    "    'bedrooms', 'beds', 'amenities',\n",
    "    'price',                  # Dependent variable\n",
    "    'minimum_nights', 'maximum_nights', 'minimum_minimum_nights',\n",
    "    'maximum_minimum_nights', 'minimum_maximum_nights',\n",
    "    'maximum_maximum_nights', 'minimum_nights_avg_ntm',\n",
    "    'maximum_nights_avg_ntm',\n",
    "    'calendar_updated',       # Remove - 0 not null\n",
    "    'has_availability',\n",
    "    'availability_30', 'availability_60', 'availability_90',\n",
    "    'availability_365',\n",
    "    'calendar_last_scraped',  # Remove - same across all rows\n",
    "    'number_of_reviews',\n",
    "    'number_of_reviews_ltm', 'number_of_reviews_l30d',\n",
    "    'first_review', 'last_review',  # Convert to days ago\n",
    "    'review_scores_rating', 'review_scores_accuracy',\n",
    "    'review_scores_cleanliness', 'review_scores_checkin',\n",
    "    'review_scores_communication', 'review_scores_location',\n",
    "    'review_scores_value',\n",
    "    'license',                # Remove \n",
    "    'instant_bookable',\n",
    "    'calculated_host_listings_count',\n",
    "    'calculated_host_listings_count_entire_homes',\n",
    "    'calculated_host_listings_count_private_rooms',\n",
    "    'calculated_host_listings_count_shared_rooms', 'reviews_per_month'   \n",
    "]\n",
    "\n",
    "data_types = {\n",
    "    'price': pd.StringDtype(),\n",
    "    'host_response_time': pd.StringDtype(),\n",
    "    'host_response_rate': pd.StringDtype(),\n",
    "    'host_acceptance_rate': pd.StringDtype(),\n",
    "    'host_is_superhost': pd.StringDtype(),\n",
    "    'host_has_profile_pic': pd.StringDtype(),\n",
    "    'host_identity_verified': pd.StringDtype(),\n",
    "    'room_type': pd.StringDtype(),\n",
    "    'has_availability': pd.StringDtype(),\n",
    "    'instant_bookable': pd.StringDtype(),\n",
    "    'name': pd.StringDtype(),\n",
    "    'description': pd.StringDtype(),\n",
    "    'neighborhood_overview': pd.StringDtype(),\n",
    "    'host_name': pd.StringDtype(),\n",
    "    'host_location': pd.StringDtype(),\n",
    "    'host_about': pd.StringDtype(),\n",
    "    'host_neighbourhood': pd.StringDtype(),\n",
    "    'neighbourhood_cleansed': pd.StringDtype(),\n",
    "    'neighbourhood_group_cleansed': pd.StringDtype(),\n",
    "    'property_type': pd.StringDtype(),\n",
    "    'host_verifications': pd.StringDtype(),\n",
    "    'amenities': pd.StringDtype(),\n",
    "}"
   ]
  },
  {
   "cell_type": "markdown",
   "metadata": {},
   "source": [
    "# Cargar los datos y crear subconjuntos"
   ]
  },
  {
   "cell_type": "code",
   "execution_count": 155,
   "metadata": {},
   "outputs": [
    {
     "data": {
      "text/plain": [
       "(20688, 75)"
      ]
     },
     "execution_count": 155,
     "metadata": {},
     "output_type": "execute_result"
    }
   ],
   "source": [
    "parse_dates = ['host_since','first_review','last_review']\n",
    "\n",
    "data = pd.read_csv('listings.csv.gz', parse_dates=parse_dates, dtype=data_types)\n",
    "\n",
    "# Select only data where there exists a price\n",
    "data = data[data['price'].notnull()]\n",
    "data.shape"
   ]
  },
  {
   "cell_type": "code",
   "execution_count": 156,
   "metadata": {},
   "outputs": [
    {
     "data": {
      "text/plain": [
       "False"
      ]
     },
     "execution_count": 156,
     "metadata": {},
     "output_type": "execute_result"
    }
   ],
   "source": [
    "data['price'].isnull().values.any()"
   ]
  },
  {
   "cell_type": "code",
   "execution_count": 157,
   "metadata": {},
   "outputs": [],
   "source": [
    "cols_of_interest = [\n",
    "    'price', 'host_id', 'host_since', 'host_response_time', 'host_response_rate',\n",
    "    'host_acceptance_rate', 'host_is_superhost', 'host_listings_count',\n",
    "    'host_total_listings_count', 'host_verifications', 'host_has_profile_pic',\n",
    "    'host_identity_verified', 'latitude', 'longitude', 'room_type', 'accommodates',\n",
    "    'bathrooms', 'bedrooms', 'beds', 'minimum_nights', 'maximum_nights',\n",
    "    'minimum_minimum_nights', 'maximum_minimum_nights', 'minimum_maximum_nights',\n",
    "    'maximum_maximum_nights', 'minimum_nights_avg_ntm', 'maximum_nights_avg_ntm',\n",
    "    'has_availability', 'availability_30', 'availability_60', 'availability_90',\n",
    "    'availability_365', 'number_of_reviews', 'number_of_reviews_ltm', 'number_of_reviews_l30d',\n",
    "    'first_review', 'last_review', 'review_scores_rating', 'review_scores_accuracy',\n",
    "    'review_scores_cleanliness', 'review_scores_checkin', 'review_scores_communication',\n",
    "    'review_scores_location', 'review_scores_value', 'instant_bookable',\n",
    "    'calculated_host_listings_count', 'calculated_host_listings_count_entire_homes',\n",
    "    'calculated_host_listings_count_private_rooms', 'calculated_host_listings_count_shared_rooms',\n",
    "    'reviews_per_month'\n",
    "                   ]"
   ]
  },
  {
   "cell_type": "code",
   "execution_count": 158,
   "metadata": {},
   "outputs": [],
   "source": [
    "# Columns to that require text processing\n",
    "cols_text = [\n",
    "    'name', 'description', 'neighborhood_overview', 'host_name', \n",
    "    'host_location', 'host_about', 'host_neighbourhood', 'neighbourhood_cleansed',\n",
    "    'neighbourhood_group_cleansed', 'property_type', 'amenities'\n",
    "            ]"
   ]
  },
  {
   "cell_type": "code",
   "execution_count": 159,
   "metadata": {},
   "outputs": [
    {
     "data": {
      "text/plain": [
       "((20688, 50), (20688, 11))"
      ]
     },
     "execution_count": 159,
     "metadata": {},
     "output_type": "execute_result"
    }
   ],
   "source": [
    "# Create data subsets\n",
    "data_numerical = data[cols_of_interest]\n",
    "data_text = data[cols_text]\n",
    "\n",
    "data_numerical.shape, data_text.shape"
   ]
  },
  {
   "cell_type": "markdown",
   "metadata": {},
   "source": [
    "# Ingeniería de Características"
   ]
  },
  {
   "cell_type": "markdown",
   "metadata": {},
   "source": [
    "## Cleaning numerical columns"
   ]
  },
  {
   "cell_type": "code",
   "execution_count": 160,
   "metadata": {},
   "outputs": [],
   "source": [
    "# COLS FOR LATER\n",
    "# 'amenities'            # list of strings lalala\n",
    "pd.options.mode.copy_on_write = True"
   ]
  },
  {
   "cell_type": "markdown",
   "metadata": {},
   "source": [
    "### Clean price"
   ]
  },
  {
   "cell_type": "code",
   "execution_count": 161,
   "metadata": {},
   "outputs": [],
   "source": [
    "data_numerical['price'] =  data_numerical['price'].replace({\"[\\$,)]\":\"\",\",\":\"\"}, regex=True).apply(pd.to_numeric)\n",
    "y = data_numerical['price']\n",
    "data_numerical = data_numerical.drop(['price'], axis=1)"
   ]
  },
  {
   "cell_type": "markdown",
   "metadata": {},
   "source": [
    "### Calculate date columns as years"
   ]
  },
  {
   "cell_type": "code",
   "execution_count": 162,
   "metadata": {},
   "outputs": [],
   "source": [
    "# Calculate years hosting\n",
    "data_numerical['host_since_year'] = data_numerical['host_since'].apply(lambda x: x.year)\n",
    "data_numerical['host_years'] = data_numerical['host_since_year'].apply(lambda x: 2024.0 - x)\n",
    "data_numerical = data_numerical.drop(['host_since', 'host_since_year'], axis=1)\n",
    "\n",
    "# Calculate years since first review\n",
    "data_numerical['first_review_year'] = data_numerical['first_review'].apply(lambda x: x.year)\n",
    "data_numerical['first_review_age'] = data_numerical['first_review_year'].apply(lambda x: 2024.0 - x)\n",
    "data_numerical = data_numerical.drop(['first_review', 'first_review_year'], axis=1)\n",
    "\n",
    "# Calculate years since last review\n",
    "data_numerical['last_review_year'] = data_numerical['last_review'].apply(lambda x: x.year)\n",
    "data_numerical['last_review_age'] = data_numerical['last_review_year'].apply(lambda x: 2024.0 - x)\n",
    "data_numerical = data_numerical.drop(['last_review', 'last_review_year'], axis=1)"
   ]
  },
  {
   "cell_type": "markdown",
   "metadata": {},
   "source": [
    "### Convert t/f columns to 1/0"
   ]
  },
  {
   "cell_type": "code",
   "execution_count": 163,
   "metadata": {},
   "outputs": [],
   "source": [
    "# Change t f columns to 1 and 0\n",
    "columns_t_f = ['host_is_superhost','host_has_profile_pic', 'host_identity_verified','has_availability','instant_bookable']\n",
    "t_f = {'t':'1', 'f':'0'}\n",
    "\n",
    "for col in columns_t_f:\n",
    "    data_numerical[col] = data_numerical[col].replace(t_f)\n",
    "\n",
    "data_numerical[columns_t_f] = data_numerical[columns_t_f].apply(pd.to_numeric)"
   ]
  },
  {
   "cell_type": "markdown",
   "metadata": {},
   "source": [
    "### Convert rate columns to numerical"
   ]
  },
  {
   "cell_type": "code",
   "execution_count": 164,
   "metadata": {},
   "outputs": [],
   "source": [
    "# Strip % and convert int\n",
    "columns_percent = ['host_response_rate','host_acceptance_rate']\n",
    "\n",
    "for col in columns_percent:\n",
    "    data_numerical[col] = data_numerical[col].str.replace('%', '').apply(pd.to_numeric)"
   ]
  },
  {
   "cell_type": "markdown",
   "metadata": {},
   "source": [
    "### Transform nominal variables using one hot encoding"
   ]
  },
  {
   "cell_type": "code",
   "execution_count": 165,
   "metadata": {},
   "outputs": [],
   "source": [
    "# Clean string\n",
    "data_numerical['host_verifications'] = data_numerical['host_verifications'].str.replace(r\"[\\'\\[\\]]\", \"\", regex=True)\n",
    "data_numerical['host_verifications'] = data_numerical['host_verifications'].str.replace(\" \", \"\")\n",
    "\n",
    "verification_cols = ['email_verified', 'phone_verified','work_email_verified']\n",
    "\n",
    "# Expand columns\n",
    "data_numerical[verification_cols] = data_numerical['host_verifications'].str.split(',', expand=True)\n",
    "\n",
    "# Convert to 1 and 0\n",
    "data_numerical[verification_cols] = data_numerical[verification_cols].notnull().astype(float)\n",
    "\n",
    "# Drop original column\n",
    "data_numerical = data_numerical.drop(['host_verifications'], axis=1)"
   ]
  },
  {
   "cell_type": "code",
   "execution_count": 166,
   "metadata": {},
   "outputs": [],
   "source": [
    "# Transform categorical columns using one hot encoding\n",
    "columns_categorical = ['host_response_time', 'room_type']\n",
    "\n",
    "data_numerical = pd.get_dummies(data_numerical, columns=columns_categorical)\n",
    "\n",
    "# Fill na with temporary placeholder\n",
    "#placeholder = 'missing'\n",
    "#data_numerical[columns_categorical] = data_numerical[columns_categorical].fillna(placeholder)\n",
    "\n",
    "# Encode categories\n",
    "#label_encoder = LabelEncoder()\n",
    "#data_numerical['host_response_time_coded'] = label_encoder.fit_transform(data_numerical['host_response_time'])\n",
    "#data_numerical['room_type_coded'] = label_encoder.fit_transform(data_numerical['room_type'])\n",
    "\n",
    "# Drop original columns\n",
    "#data_numerical = data_numerical.drop(columns_categorical, axis=1)"
   ]
  },
  {
   "cell_type": "markdown",
   "metadata": {},
   "source": [
    "# Data exploration"
   ]
  },
  {
   "cell_type": "code",
   "execution_count": 167,
   "metadata": {},
   "outputs": [
    {
     "data": {
      "text/plain": [
       "Index(['host_id', 'host_response_rate', 'host_acceptance_rate',\n",
       "       'host_is_superhost', 'host_listings_count', 'host_total_listings_count',\n",
       "       'host_has_profile_pic', 'host_identity_verified', 'latitude',\n",
       "       'longitude', 'accommodates', 'bathrooms', 'bedrooms', 'beds',\n",
       "       'minimum_nights', 'maximum_nights', 'minimum_minimum_nights',\n",
       "       'maximum_minimum_nights', 'minimum_maximum_nights',\n",
       "       'maximum_maximum_nights', 'minimum_nights_avg_ntm',\n",
       "       'maximum_nights_avg_ntm', 'has_availability', 'availability_30',\n",
       "       'availability_60', 'availability_90', 'availability_365',\n",
       "       'number_of_reviews', 'number_of_reviews_ltm', 'number_of_reviews_l30d',\n",
       "       'review_scores_rating', 'review_scores_accuracy',\n",
       "       'review_scores_cleanliness', 'review_scores_checkin',\n",
       "       'review_scores_communication', 'review_scores_location',\n",
       "       'review_scores_value', 'instant_bookable',\n",
       "       'calculated_host_listings_count',\n",
       "       'calculated_host_listings_count_entire_homes',\n",
       "       'calculated_host_listings_count_private_rooms',\n",
       "       'calculated_host_listings_count_shared_rooms', 'reviews_per_month',\n",
       "       'host_years', 'first_review_age', 'last_review_age', 'email_verified',\n",
       "       'phone_verified', 'work_email_verified',\n",
       "       'host_response_time_a few days or more',\n",
       "       'host_response_time_within a day',\n",
       "       'host_response_time_within a few hours',\n",
       "       'host_response_time_within an hour', 'room_type_Entire home/apt',\n",
       "       'room_type_Hotel room', 'room_type_Private room',\n",
       "       'room_type_Shared room'],\n",
       "      dtype='object')"
      ]
     },
     "execution_count": 167,
     "metadata": {},
     "output_type": "execute_result"
    }
   ],
   "source": [
    "data_numerical.columns"
   ]
  },
  {
   "cell_type": "code",
   "execution_count": null,
   "metadata": {},
   "outputs": [],
   "source": []
  },
  {
   "cell_type": "code",
   "execution_count": null,
   "metadata": {},
   "outputs": [],
   "source": []
  },
  {
   "cell_type": "code",
   "execution_count": null,
   "metadata": {},
   "outputs": [],
   "source": []
  },
  {
   "cell_type": "code",
   "execution_count": null,
   "metadata": {},
   "outputs": [],
   "source": []
  },
  {
   "cell_type": "markdown",
   "metadata": {},
   "source": [
    "## Final data transformations"
   ]
  },
  {
   "cell_type": "code",
   "execution_count": 168,
   "metadata": {},
   "outputs": [],
   "source": [
    "# Handle Nulls usint interpolate\n",
    "for col in data_numerical.columns:\n",
    "    if data_numerical.isnull().values.any():\n",
    "        data_numerical[col] = data_numerical[col].astype(float)\n",
    "        data_numerical[col] = data_numerical[col].interpolate(method='linear')"
   ]
  },
  {
   "cell_type": "code",
   "execution_count": 169,
   "metadata": {},
   "outputs": [],
   "source": [
    "# Normalize data using min-max normalization\n",
    "normalized_numerical_data = (data_numerical-data_numerical.min())/(data_numerical.max()-data_numerical.min())"
   ]
  },
  {
   "cell_type": "markdown",
   "metadata": {},
   "source": [
    "# Model Training\n",
    "\n",
    "https://towardsdatascience.com/hyperparameter-tuning-the-random-forest-in-python-using-scikit-learn-28d2aa77dd74"
   ]
  },
  {
   "cell_type": "code",
   "execution_count": 171,
   "metadata": {},
   "outputs": [],
   "source": [
    "X_train, X_test, y_train, y_test = train_test_split(\n",
    "    normalized_numerical_data, y, test_size=0.33, random_state=42)"
   ]
  },
  {
   "cell_type": "code",
   "execution_count": 183,
   "metadata": {},
   "outputs": [],
   "source": [
    "#np.random.seed(42)\n",
    "#from sklearn import linear_model\n",
    "#br = linear_model.BayesianRidge()\n",
    "\n",
    "def evaluate(model, test_features, test_labels):\n",
    "    \"\"\"\n",
    "    Function to print model performance metrics.\n",
    "    \"\"\"\n",
    "    pred = model.predict(test_features)\n",
    "    mse =  metrics.mean_squared_error(test_labels, pred)\n",
    "    mae = metrics.mean_absolute_error(test_labels, pred)\n",
    "    rmse = np.sqrt(metrics.mean_squared_error(test_labels, pred))\n",
    "    mape = np.mean(np.abs((test_labels - pred) / np.abs(test_labels)))\n",
    "    \n",
    "    print('-----Model Performance-----')\n",
    "    print(f\"Mean Absolute Error (MAE): {round(mae, 2)}\")\n",
    "    print(f\"Mean Squared Error (MSE): {round(mse, 2)}\")\n",
    "    print(f\"Root Mean Squared Error (RMSE): {round(rmse, 2)}\")\n",
    "    print(f\"Mean Absolute Percentage Error (MAPE): {round(mape * 100, 2)}\")\n",
    "    print(f\"Accuracy: {round(100*(1 - mape), 2)}\")\n",
    "\n",
    "    return"
   ]
  },
  {
   "cell_type": "markdown",
   "metadata": {},
   "source": [
    "## Random Forest Regressor"
   ]
  },
  {
   "cell_type": "markdown",
   "metadata": {},
   "source": [
    "### Baseline Results"
   ]
  },
  {
   "cell_type": "code",
   "execution_count": 175,
   "metadata": {},
   "outputs": [
    {
     "data": {
      "text/plain": [
       "['base_model.pkl']"
      ]
     },
     "execution_count": 175,
     "metadata": {},
     "output_type": "execute_result"
    }
   ],
   "source": [
    "# Baseline\n",
    "base_model = RandomForestRegressor(random_state=42)\n",
    "base_model.fit(X_train, y_train)\n",
    "\n",
    "# Save model\n",
    "joblib.dump(base_model, 'base_model.pkl', compress=True)"
   ]
  },
  {
   "cell_type": "code",
   "execution_count": 184,
   "metadata": {},
   "outputs": [
    {
     "name": "stdout",
     "output_type": "stream",
     "text": [
      "-----Model Performance-----\n",
      "Mean Absolute Error (MAE): 58.49\n",
      "Mean Squared Error (MSE): 68230.27\n",
      "Root Mean Squared Error (RMSE): 261.21\n",
      "Mean Absolute Percentage Error (MAPE): 55.21\n",
      "Accuracy: 44.79\n"
     ]
    }
   ],
   "source": [
    "evaluate(base_model, X_test, y_test)"
   ]
  },
  {
   "cell_type": "markdown",
   "metadata": {},
   "source": [
    "### Hyperparameter Tuning"
   ]
  },
  {
   "cell_type": "code",
   "execution_count": null,
   "metadata": {},
   "outputs": [],
   "source": [
    "# Instantiate model\n",
    "model = RandomForestRegressor(random_state=42)\n",
    "\n",
    "# Dictionary of hyperparameters\n",
    "parameters = {\n",
    "    'n_estimators':[1, 2, 4, 8, 16, 32, 64, 100, 200],\n",
    "    'max_features':['sqrt', 'log2', None],\n",
    "    'random_state':[42],\n",
    "    'min_samples_leaf': [1, 2, 4],\n",
    "    'min_samples_split': [2, 5, 10],\n",
    "    #'max_depth': [10, 20, 30, 40, 50, 60, 70, 80, 90, 100, None],\n",
    "}\n",
    "\n",
    "# Hyperparameter tuning, automatically does 5-fold cv\n",
    "cv = GridSearchCV(model, parameters, n_jobs=-1, verbose=10)\n",
    "cv.fit(X_train, y_train)\n",
    "\n",
    "# Pickle model\n",
    "joblib.dump(cv, 'cv.pkl', compress=True)\n",
    "joblib.dump(cv.best_estimator_, 'cv_best_model.pkl')"
   ]
  },
  {
   "cell_type": "code",
   "execution_count": null,
   "metadata": {},
   "outputs": [],
   "source": [
    "cv_best_model = joblib.load('cv_best_model.pkl')\n",
    "cv = joblib.load('cv.pkl')"
   ]
  },
  {
   "cell_type": "markdown",
   "metadata": {},
   "source": [
    "### Final Results"
   ]
  },
  {
   "cell_type": "code",
   "execution_count": 187,
   "metadata": {},
   "outputs": [
    {
     "name": "stdout",
     "output_type": "stream",
     "text": [
      "-----Model Performance-----\n",
      "Mean Absolute Error (MAE): 52.38\n",
      "Mean Squared Error (MSE): 44024.43\n",
      "Root Mean Squared Error (RMSE): 209.82\n",
      "Mean Absolute Percentage Error (MAPE): 49.79\n",
      "Accuracy: 50.21\n"
     ]
    }
   ],
   "source": [
    "cv_best_model = cv.best_estimator_\n",
    "evaluate(cv_best_model, X_test, y_test)"
   ]
  },
  {
   "cell_type": "code",
   "execution_count": 209,
   "metadata": {},
   "outputs": [
    {
     "data": {
      "image/png": "[encoded data removed]",
      "text/plain": [
       "<Figure size 500x400 with 1 Axes>"
      ]
     },
     "metadata": {},
     "output_type": "display_data"
    }
   ],
   "source": [
    "pred = cv_best_model.predict(X_test)\n",
    "variable_of_interest = 'host_years'\n",
    "\n",
    "fig, ax = plt.subplots(figsize=(5,4))\n",
    "\n",
    "ax.scatter(X_test[variable_of_interest].values, y_test, color='blue', alpha=.5)\n",
    "ax.scatter(X_test[variable_of_interest].values, pred, color='green', alpha=.5)\n",
    "ax.set_title('Random Forest Regression')\n",
    "ax.set_xlabel(variable_of_interest)\n",
    "ax.set_ylabel('Price')\n",
    "ax.legend([\"True Values\", \"Predicted\"])\n",
    "plt.show()"
   ]
  },
  {
   "cell_type": "markdown",
   "metadata": {},
   "source": [
    "## Ridge Regressor"
   ]
  },
  {
   "cell_type": "markdown",
   "metadata": {},
   "source": [
    "### Baseline"
   ]
  },
  {
   "cell_type": "code",
   "execution_count": 217,
   "metadata": {},
   "outputs": [
    {
     "data": {
      "text/plain": [
       "['base_gradboost_model.pkl']"
      ]
     },
     "execution_count": 217,
     "metadata": {},
     "output_type": "execute_result"
    }
   ],
   "source": [
    "# Get baseline\n",
    "base_gradboost = HistGradientBoostingRegressor(random_state=42)\n",
    "base_gradboost.fit(X_train, y_train)\n",
    "\n",
    "# Save model\n",
    "joblib.dump(base_gradboost, 'base_gradboost_model.pkl', compress=True)"
   ]
  },
  {
   "cell_type": "code",
   "execution_count": 218,
   "metadata": {},
   "outputs": [
    {
     "name": "stdout",
     "output_type": "stream",
     "text": [
      "-----Model Performance-----\n",
      "Mean Absolute Error (MAE): 60.84\n",
      "Mean Squared Error (MSE): 59387.45\n",
      "Root Mean Squared Error (RMSE): 243.7\n",
      "Mean Absolute Percentage Error (MAPE): 60.65\n",
      "Accuracy: 39.35\n"
     ]
    }
   ],
   "source": [
    "evaluate(base_gradboost, X_test, y_test)"
   ]
  },
  {
   "cell_type": "markdown",
   "metadata": {},
   "source": [
    "### Hyperparameter Tuning"
   ]
  },
  {
   "cell_type": "code",
   "execution_count": null,
   "metadata": {},
   "outputs": [],
   "source": []
  },
  {
   "cell_type": "code",
   "execution_count": null,
   "metadata": {},
   "outputs": [],
   "source": []
  }
 ],
 "metadata": {
  "kernelspec": {
   "display_name": "Python 3 (ipykernel)",
   "language": "python",
   "name": "python3"
  },
  "language_info": {
   "codemirror_mode": {
    "name": "ipython",
    "version": 3
   },
   "file_extension": ".py",
   "mimetype": "text/x-python",
   "name": "python",
   "nbconvert_exporter": "python",
   "pygments_lexer": "ipython3",
   "version": "3.10.12"
  }
 },
 "nbformat": 4,
 "nbformat_minor": 4
}
