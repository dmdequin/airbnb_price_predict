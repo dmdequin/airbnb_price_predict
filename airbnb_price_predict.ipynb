{
 "cells": [
  {
   "cell_type": "markdown",
   "metadata": {},
   "source": [
    "## Importaciones"
   ]
  },
  {
   "cell_type": "code",
   "execution_count": 2,
   "metadata": {},
   "outputs": [],
   "source": [
    "\"\"\"Módulo para crear un modelo predictivo de precios de Airbnb en la Comunidad de Madrid.\"\"\"\n",
    "\n",
    "import pandas as pd"
   ]
  },
  {
   "cell_type": "markdown",
   "metadata": {},
   "source": [
    "## Descargar los datos"
   ]
  },
  {
   "cell_type": "code",
   "execution_count": 11,
   "metadata": {},
   "outputs": [],
   "source": [
    "data_location = \"https://data.insideairbnb.com/spain/comunidad-de-madrid/madrid/2024-03-22/data/listings.csv.gz\""
   ]
  },
  {
   "cell_type": "code",
   "execution_count": 12,
   "metadata": {},
   "outputs": [
    {
     "name": "stdout",
     "output_type": "stream",
     "text": [
      "--2024-06-01 19:46:38--  https://data.insideairbnb.com/spain/comunidad-de-madrid/madrid/2024-03-22/data/listings.csv.gz\n",
      "Resolving data.insideairbnb.com (data.insideairbnb.com)... 18.154.48.59, 18.154.48.87, 18.154.48.41, ...\n",
      "Connecting to data.insideairbnb.com (data.insideairbnb.com)|18.154.48.59|:443... connected.\n",
      "HTTP request sent, awaiting response... 200 OK\n",
      "Length: 13297683 (13M) [application/x-gzip]\n",
      "Saving to: ‘listings.csv.gz’\n",
      "\n",
      "listings.csv.gz     100%[===================>]  12.68M  17.1MB/s    in 0.7s    \n",
      "\n",
      "2024-06-01 19:46:39 (17.1 MB/s) - ‘listings.csv.gz’ saved [13297683/13297683]\n",
      "\n"
     ]
    }
   ],
   "source": [
    "!wget https://data.insideairbnb.com/spain/comunidad-de-madrid/madrid/2024-03-22/data/listings.csv.gz"
   ]
  },
  {
   "cell_type": "code",
   "execution_count": null,
   "metadata": {},
   "outputs": [],
   "source": [
    "# Reasoning behind which columns are removed, and which require text processing\n",
    "columns =[\n",
    "    'id',                     # Remove - Identifier\n",
    "    'listing_url',            # Remove - URL with ID at end\n",
    "    'scrape_id',              # Remove - details of scrape\n",
    "    'last_scraped',           # Remove - detail of scrape\n",
    "    'source',                 # Remove - detail of scrape\n",
    "    'name',                   # Do text processing\n",
    "    'description',            # Do text processing\n",
    "    'neighborhood_overview',  # Do text processing\n",
    "    'picture_url',            # Remove - URl\n",
    "    'host_id',                # Could learn relation between host and price\n",
    "    'host_url',               # Remove - redundant with host_id\n",
    "    'host_name',              # Do text processing\n",
    "    'host_since',             # Convert to number of months or years \n",
    "    'host_location',          # Do text processing\n",
    "    'host_about',             # Do text processing\n",
    "    'host_response_time', 'host_response_rate',\n",
    "    'host_acceptance_rate', 'host_is_superhost',\n",
    "    'host_thumbnail_url',     # Remove\n",
    "    'host_picture_url',       # Remove\n",
    "    'host_neighbourhood',     # Do text processing\n",
    "    'host_listings_count', 'host_total_listings_count',\n",
    "    'host_verifications',     #\n",
    "    'host_has_profile_pic', 'host_identity_verified',\n",
    "    'neighbourhood',          #  Remove - redundant\n",
    "    'neighbourhood_cleansed', #  Do text processing\n",
    "    'neighbourhood_group_cleansed',\n",
    "    'latitude', 'longitude',\n",
    "    'property_type',          #  Do text processing\n",
    "    'room_type', 'accommodates', 'bathrooms',\n",
    "    'bathrooms_text',         # Remove - largely redundant\n",
    "    'bedrooms', 'beds', 'amenities', 'price',\n",
    "    'minimum_nights', 'maximum_nights', 'minimum_minimum_nights',\n",
    "    'maximum_minimum_nights', 'minimum_maximum_nights',\n",
    "    'maximum_maximum_nights', 'minimum_nights_avg_ntm',\n",
    "    'maximum_nights_avg_ntm',\n",
    "    'calendar_updated',       # Remove - 0 not null\n",
    "    'has_availability',\n",
    "    'availability_30', 'availability_60', 'availability_90',\n",
    "    'availability_365',\n",
    "    'calendar_last_scraped',  # Remove - same across all rows\n",
    "    'number_of_reviews',\n",
    "    'number_of_reviews_ltm', 'number_of_reviews_l30d',\n",
    "    'first_review', 'last_review',  # Convert to days ago\n",
    "    'review_scores_rating', 'review_scores_accuracy',\n",
    "    'review_scores_cleanliness', 'review_scores_checkin',\n",
    "    'review_scores_communication', 'review_scores_location',\n",
    "    'review_scores_value',\n",
    "    'license',                # Remove \n",
    "    'instant_bookable',\n",
    "    'calculated_host_listings_count',\n",
    "    'calculated_host_listings_count_entire_homes',\n",
    "    'calculated_host_listings_count_private_rooms',\n",
    "    'calculated_host_listings_count_shared_rooms', 'reviews_per_month'   \n",
    "]"
   ]
  },
  {
   "cell_type": "code",
   "execution_count": 37,
   "metadata": {},
   "outputs": [
    {
     "data": {
      "text/plain": [
       "(26024, 75)"
      ]
     },
     "execution_count": 37,
     "metadata": {},
     "output_type": "execute_result"
    }
   ],
   "source": [
    "data = pd.read_csv('listings.csv.gz')\n",
    "data.shape"
   ]
  },
  {
   "cell_type": "code",
   "execution_count": 94,
   "metadata": {},
   "outputs": [],
   "source": [
    "cols_of_interest = ['host_id', 'host_since', 'host_response_time',\n",
    "    'host_response_rate', 'host_acceptance_rate', 'host_is_superhost',\n",
    "    'host_listings_count', 'host_total_listings_count', 'host_verifications',\n",
    "    'host_has_profile_pic', 'host_identity_verified', 'latitude', 'longitude',\n",
    "    'room_type', 'accommodates', 'bathrooms', 'bedrooms', 'beds', 'price',\n",
    "    'minimum_nights', 'maximum_nights', 'minimum_minimum_nights', 'maximum_minimum_nights',\n",
    "    'minimum_maximum_nights', 'maximum_maximum_nights', 'minimum_nights_avg_ntm',\n",
    "    'maximum_nights_avg_ntm', 'has_availability', 'availability_30', 'availability_60', 'availability_90',\n",
    "    'availability_365', 'number_of_reviews', 'number_of_reviews_ltm', 'number_of_reviews_l30d',\n",
    "    'first_review', 'last_review', 'review_scores_rating', 'review_scores_accuracy',\n",
    "    'review_scores_cleanliness', 'review_scores_checkin', 'review_scores_communication',\n",
    "    'review_scores_location', 'review_scores_value', 'instant_bookable',\n",
    "    'calculated_host_listings_count', 'calculated_host_listings_count_entire_homes',\n",
    "    'calculated_host_listings_count_private_rooms', 'calculated_host_listings_count_shared_rooms',\n",
    "    'reviews_per_month'\n",
    "                   ]"
   ]
  },
  {
   "cell_type": "code",
   "execution_count": 95,
   "metadata": {},
   "outputs": [],
   "source": [
    "# Columns to that require text processing\n",
    "cols_text = ['name', 'description', 'neighborhood_overview', 'host_name', \n",
    "    'host_location', 'host_about', 'host_neighbourhood', 'neighbourhood_cleansed',\n",
    "    'neighbourhood_group_cleansed', 'property_type', 'amenities'\n",
    "            ]"
   ]
  },
  {
   "cell_type": "code",
   "execution_count": 101,
   "metadata": {},
   "outputs": [],
   "source": [
    "# Select only columns of interest\n",
    "data_numerical = data[cols_of_interest]"
   ]
  },
  {
   "cell_type": "code",
   "execution_count": 100,
   "metadata": {},
   "outputs": [
    {
     "name": "stdout",
     "output_type": "stream",
     "text": [
      "<class 'pandas.core.frame.DataFrame'>\n",
      "RangeIndex: 26024 entries, 0 to 26023\n",
      "Data columns (total 50 columns):\n",
      " #   Column                                        Non-Null Count  Dtype  \n",
      "---  ------                                        --------------  -----  \n",
      " 0   host_id                                       26024 non-null  int64  \n",
      " 1   host_since                                    26020 non-null  object \n",
      " 2   host_response_time                            20664 non-null  object \n",
      " 3   host_response_rate                            20664 non-null  object \n",
      " 4   host_acceptance_rate                          21947 non-null  object \n",
      " 5   host_is_superhost                             25897 non-null  object \n",
      " 6   host_listings_count                           26020 non-null  float64\n",
      " 7   host_total_listings_count                     26020 non-null  float64\n",
      " 8   host_verifications                            26020 non-null  object \n",
      " 9   host_has_profile_pic                          26020 non-null  object \n",
      " 10  host_identity_verified                        26020 non-null  object \n",
      " 11  latitude                                      26024 non-null  float64\n",
      " 12  longitude                                     26024 non-null  float64\n",
      " 13  room_type                                     26024 non-null  object \n",
      " 14  accommodates                                  26024 non-null  int64  \n",
      " 15  bathrooms                                     20673 non-null  float64\n",
      " 16  bedrooms                                      23590 non-null  float64\n",
      " 17  beds                                          20631 non-null  float64\n",
      " 18  price                                         20688 non-null  object \n",
      " 19  minimum_nights                                26024 non-null  int64  \n",
      " 20  maximum_nights                                26024 non-null  int64  \n",
      " 21  minimum_minimum_nights                        26024 non-null  int64  \n",
      " 22  maximum_minimum_nights                        26024 non-null  int64  \n",
      " 23  minimum_maximum_nights                        26024 non-null  int64  \n",
      " 24  maximum_maximum_nights                        26024 non-null  int64  \n",
      " 25  minimum_nights_avg_ntm                        26024 non-null  float64\n",
      " 26  maximum_nights_avg_ntm                        26024 non-null  float64\n",
      " 27  has_availability                              24475 non-null  object \n",
      " 28  availability_30                               26024 non-null  int64  \n",
      " 29  availability_60                               26024 non-null  int64  \n",
      " 30  availability_90                               26024 non-null  int64  \n",
      " 31  availability_365                              26024 non-null  int64  \n",
      " 32  number_of_reviews                             26024 non-null  int64  \n",
      " 33  number_of_reviews_ltm                         26024 non-null  int64  \n",
      " 34  number_of_reviews_l30d                        26024 non-null  int64  \n",
      " 35  first_review                                  20420 non-null  object \n",
      " 36  last_review                                   20420 non-null  object \n",
      " 37  review_scores_rating                          20421 non-null  float64\n",
      " 38  review_scores_accuracy                        20403 non-null  float64\n",
      " 39  review_scores_cleanliness                     20401 non-null  float64\n",
      " 40  review_scores_checkin                         20402 non-null  float64\n",
      " 41  review_scores_communication                   20403 non-null  float64\n",
      " 42  review_scores_location                        20400 non-null  float64\n",
      " 43  review_scores_value                           20399 non-null  float64\n",
      " 44  instant_bookable                              26024 non-null  object \n",
      " 45  calculated_host_listings_count                26024 non-null  int64  \n",
      " 46  calculated_host_listings_count_entire_homes   26024 non-null  int64  \n",
      " 47  calculated_host_listings_count_private_rooms  26024 non-null  int64  \n",
      " 48  calculated_host_listings_count_shared_rooms   26024 non-null  int64  \n",
      " 49  reviews_per_month                             20420 non-null  float64\n",
      "dtypes: float64(17), int64(19), object(14)\n",
      "memory usage: 9.9+ MB\n"
     ]
    }
   ],
   "source": [
    "data_numerical.info()"
   ]
  },
  {
   "cell_type": "code",
   "execution_count": null,
   "metadata": {},
   "outputs": [],
   "source": []
  }
 ],
 "metadata": {
  "kernelspec": {
   "display_name": "Python 3 (ipykernel)",
   "language": "python",
   "name": "python3"
  },
  "language_info": {
   "codemirror_mode": {
    "name": "ipython",
    "version": 3
   },
   "file_extension": ".py",
   "mimetype": "text/x-python",
   "name": "python",
   "nbconvert_exporter": "python",
   "pygments_lexer": "ipython3",
   "version": "3.10.12"
  }
 },
 "nbformat": 4,
 "nbformat_minor": 4
}
